{
 "cells": [
  {
   "cell_type": "markdown",
   "metadata": {},
   "source": [
    "# CarND - Behavorial Cloning - Project3\n"
   ]
  },
  {
   "cell_type": "markdown",
   "metadata": {},
   "source": [
    "#### File structure\n",
    "\n",
    "- CarND-BehavorialCloning/ ---- Root folder\n",
    "    - data/ ----------------------- Training image data.\n",
    "        - IMG/ ------------------ Center, left and right images (Not included).\n",
    "        - driving_log.csv ------- Log for name of the images with steering angle, throttle, break and speed.\n",
    "    - drive.py -------------------- Connects to Udacity simulator and predicts with the model, images from simulator.\n",
    "    - model.py ------------------ The NN model. Based on Nvidia's blog.* Here you can also see the loading of the data with some augmentation\n",
    "    - model.json ---------------- Json representation of the model\n",
    "    - model.h5 ------------------ Saved weights from the model training. \n",
    "    - BehavorialCloning.ipyn -- Jupyter Notebook. Documentation for this project.(This notebook)\n",
    "    \n",
    "\n",
    "*https://devblogs.nvidia.com/parallelforall/deep-learning-self-driving-cars/\n",
    "\n"
   ]
  },
  {
   "cell_type": "code",
   "execution_count": null,
   "metadata": {
    "collapsed": false
   },
   "outputs": [],
   "source": [
    "# Imports\n",
    "import os, csv, json, math, cv2\n",
    "import numpy as np\n",
    "import tensorflow as tf\n",
    "tf.python.control_flow_ops = tf\n",
    "\n",
    "from keras.models import Sequential, load_model\n",
    "from keras.layers import Dense, Dropout, Flatten, Activation\n",
    "from keras.layers.core import Lambda\n",
    "from keras.layers.convolutional import Convolution2D\n",
    "from keras.optimizers import Adam\n",
    "from keras.layers.pooling import MaxPooling2D\n",
    "from keras.layers.normalization import BatchNormalization\n",
    "from keras.preprocessing.image import ImageDataGenerator, img_to_array, load_img\n",
    "from keras.utils import np_utils\n",
    "\n",
    "import matplotlib.pyplot as plt\n",
    "%matplotlib inline"
   ]
  },
  {
   "cell_type": "code",
   "execution_count": null,
   "metadata": {
    "collapsed": true
   },
   "outputs": [],
   "source": [
    "# Functions\n",
    "\n",
    "# Generate batch to train with augmentation\n",
    "def getBatch(data, batch_size):\n",
    "    steeringIndex = 3\n",
    "    while 1:    \n",
    "        batch_x = np.zeros((batch_size, 66, 200, 3))\n",
    "        batch_y = np.zeros(batch_size)\n",
    "        i = 0\n",
    "        while i < batch_size:\n",
    "            useImg = False\n",
    "            # Get random index in data and set steering value accordingly\n",
    "            rint = np.random.randint(len(data)-1)\n",
    "            steeringValue = float(data[rint][steeringIndex])         \n",
    "            \n",
    "            # Check if steering is approx straight driving - We dont want to take them all...\n",
    "            if -0.1 <= steeringValue <= 0.1 and np.random.randint(10) == 1:\n",
    "                useImg = True\n",
    "\n",
    "            # All images which are not as near 0.0 we will use\n",
    "            else:\n",
    "                useImg = True\n",
    "            \n",
    "            if useImg:              \n",
    "                # Get random type of image. center, left or right image\n",
    "                rtype = np.random.randint(3)\n",
    "                \n",
    "                if rtype == 1: # Left image add offset\n",
    "                    steeringValue += .2\n",
    "                if rtype == 2: # Right image add offset\n",
    "                    steeringValue -= .2 \n",
    "                    \n",
    "                batch_y[i] = steeringValue\n",
    "                batch_x[i] = resizeImg(cropTopBot(getImageToBatch(data[rint][rtype])))\n",
    "                i += 1\n",
    "                \n",
    "                # Add random flip by axes images. Approx 1 of 5\n",
    "                if np.random.randint(5) == 1:\n",
    "                    batch_x[i], batch_y[i] = flip(batch_x[i], batch_y[i])             \n",
    "\n",
    "        yield batch_x, batch_y\n",
    "        \n",
    "        \n",
    "# Flip images by axis and steering angle\n",
    "def flip(image, angle):\n",
    "    flippedImg = cv2.flip(image,1)\n",
    "    flippedAngle = angle * (-1)\n",
    "    return flippedImg, flippedAngle\n",
    "\n",
    "# Normalize images\n",
    "def normalize(image):\n",
    "    return image / 255.0 - 0.5\n",
    "\n",
    "# Load image from path to np array. CV2 loads image in BGR but we change it to RGB as well.\n",
    "def getImageToBatch(imgpath):\n",
    "    img = cv2.imread(imgpath)\n",
    "    #img = cv2.cvtColor(img, cv2.COLOR_BGR2RGB)\n",
    "    return img\n",
    "\n",
    "# Change brightness for more generalization(day,night,dusk,dawn etc...)\n",
    "def randomBrightness(image):\n",
    "    hsv = cv2.cvtColor(image, cv2.COLOR_BGR2HSV)\n",
    "    hsv[:,:,2] = hsv[:,:,2]*(1.0 + np.random.uniform(-.8, .5))\n",
    "    return cv2.cvtColor(hsv, cv2.COLOR_HSV2RGB)\n",
    "\n",
    "\n",
    "# Crop 60pixels of the top of the image as they are not needed for driving..\n",
    "# and we take 20px from bottom to get rid of the car from the image\n",
    "def cropTopBot(img):\n",
    "    return img[60:140, 0:320] # Crop from x, y, w, h \n",
    "\n",
    "# Resize the image to fit our model input shape (66,200,3)\n",
    "def resizeImg(img):\n",
    "    return cv2.resize(img, (200,66))\n",
    "\n",
    "# Reads the driving log csv file \n",
    "def prepareDataFromCSV(path):\n",
    "    data = []\n",
    "    with open(path) as csvfile:\n",
    "        reader = csv.DictReader(csvfile)\n",
    "        for row in reader:\n",
    "            data.append(\n",
    "                [\n",
    "                    os.getcwd() + '/data/' + row['center'], \n",
    "                    os.getcwd() + '/data/' + row['left'], \n",
    "                    os.getcwd() + '/data/' + row['right'], \n",
    "                    row['steering']\n",
    "                ])\n",
    "    return data\n"
   ]
  },
  {
   "cell_type": "code",
   "execution_count": null,
   "metadata": {
    "collapsed": true
   },
   "outputs": [],
   "source": [
    "# The model\n",
    "\n",
    "def getCNN():\n",
    "    \n",
    "    model = Sequential()\n",
    "\n",
    "    # Noramlization\n",
    "    model.add(Lambda(normalize, input_shape=(66, 200, 3)))\n",
    "\n",
    "    # Layer 1 - Convolutional\n",
    "    model.add(Convolution2D(24, 5, 5, border_mode='valid', subsample=(2,2)))\n",
    "    model.add(Activation('relu'))\n",
    "\n",
    "    # Layer 2 - Convolutional\n",
    "    model.add(Convolution2D(36, 5, 5, border_mode='valid', subsample=(2,2)))\n",
    "    model.add(Activation('relu'))\n",
    "\n",
    "    # Layer 3 - Convolutional\n",
    "    model.add(Convolution2D(48, 5, 5, border_mode='valid', subsample=(2,2)))\n",
    "    model.add(Activation('relu'))\n",
    "\n",
    "    # Layer 4 - Convolutional\n",
    "    model.add(Convolution2D(64, 3, 3, border_mode='valid', subsample=(1,1)))\n",
    "    model.add(Activation('relu'))\n",
    "\n",
    "    # Layer 4 - Convolutional\n",
    "    model.add(Convolution2D(64, 3, 3, border_mode='valid', subsample=(1,1)))\n",
    "    model.add(Activation('relu'))\n",
    "\n",
    "    # Layer 5 Flatten\n",
    "    model.add(Flatten())\n",
    "\n",
    "    # Layer 6 - Fully-connected\n",
    "    model.add(Dense(100))\n",
    "    model.add(Activation('relu'))\n",
    "    model.add(Dropout(0.3))\n",
    "\n",
    "    # Layer 7 - Fully-connected\n",
    "    model.add(Dense(50))\n",
    "    model.add(Activation('relu'))\n",
    "\n",
    "    # Layer 8 - Fully-connected\n",
    "    model.add(Dense(10))\n",
    "    model.add(Activation('relu'))\n",
    "    model.add(Dropout(0.3))\n",
    "    \n",
    "    # Layer 9 - Fully-connected\n",
    "    model.add(Dense(1))\n",
    "    \n",
    "    return model\n"
   ]
  },
  {
   "cell_type": "code",
   "execution_count": null,
   "metadata": {
    "collapsed": true
   },
   "outputs": [],
   "source": [
    "# DO NOT RUN IN JUPYTER NOTEBOOK\n",
    "# Main function that load the model, compiles it and starts training. Then we save the model and weights\n",
    "def main():\n",
    "    path = '/data/driving_log.csv'\n",
    "    training_data = prepareDataFromCSV(os.getcwd() + path)\n",
    "    batch_size = 128\n",
    "    samples_per_epoch = batch_size * 320\n",
    "    nb_epoch = 10\n",
    "    print(\" Training data from csv: {}\".format(path))\n",
    "    print(\" Batch size: {} \\n Number of epochs: {} \\n Samples per epoch {}\"\n",
    "        .format(batch_size, nb_epoch, samples_per_epoch))\n",
    "\n",
    "    # Get model\n",
    "    model = getCNN()\n",
    "    # Compile the model with adam optimizer\n",
    "    adam = Adam(lr = 0.001)\n",
    "    model.compile(optimizer=adam, loss=\"mse\")\n",
    "    # Start fit the model\n",
    "    history = model.fit_generator(\n",
    "        getBatch(training_data, batch_size), \n",
    "        samples_per_epoch=samples_per_epoch,\n",
    "        nb_epoch=nb_epoch)\n",
    "    \n",
    "    # Save model.\n",
    "    json_string = model.to_json()\n",
    "    with open('model.json', 'w') as outfile:\n",
    "        json.dump(json_string, outfile)\n",
    "    # Save weights.\n",
    "    model.save_weights('model.h5')\n",
    "\n",
    "    print(\"Training finished... Model and weights saved!\")\n"
   ]
  },
  {
   "cell_type": "code",
   "execution_count": null,
   "metadata": {
    "collapsed": false
   },
   "outputs": [],
   "source": [
    "# Run this to view the model summary\n",
    "model = getCNN()\n",
    "# Compile the model with adam optimizer\n",
    "adam = Adam(lr = 0.001)\n",
    "model.compile(optimizer=adam, loss=\"mse\")\n",
    "print(model.summary())"
   ]
  },
  {
   "cell_type": "markdown",
   "metadata": {},
   "source": [
    "## The model\n",
    "Built on: \n",
    "https://devblogs.nvidia.com/parallelforall/deep-learning-self-driving-cars/\n",
    "\n",
    "<img src=\"files/data/cnn-architecture.png\">\n",
    "\n",
    "Some text here about the model...\n"
   ]
  },
  {
   "cell_type": "markdown",
   "metadata": {},
   "source": [
    "## The training\n",
    "\n",
    "Some text about training the model. Parameters and stuff\n",
    "<img src=\"files/data/trainingepochs.png\">\n",
    "\n"
   ]
  },
  {
   "cell_type": "markdown",
   "metadata": {},
   "source": [
    "## The data\n",
    "\n",
    "Some text about the data and data augmentation"
   ]
  },
  {
   "cell_type": "code",
   "execution_count": null,
   "metadata": {
    "collapsed": false
   },
   "outputs": [],
   "source": [
    "# Example of Center, Left and Right images.\n",
    "path = '/data/driving_log.csv'\n",
    "training_data = prepareDataFromCSV(os.getcwd() + path)\n",
    "imgIndex = 2351\n",
    "center = getImageToBatch(training_data[imgIndex][0])\n",
    "left = getImageToBatch(training_data[imgIndex][1])\n",
    "right = getImageToBatch(training_data[imgIndex][2])\n",
    "steering_angle = float(training_data[imgIndex][3])\n",
    "\n",
    "print(\"This is an example of unchanged images in our set. Images are loaded in in BGR colors. Will be changed to RGB\")\n",
    "print('Steering angle: {} '.format(steering_angle))\n",
    "plt.figure(figsize=(20,20));\n",
    "plt.subplot(1,3,1, title='left')\n",
    "plt.imshow(left)\n",
    "plt.subplot(1,3,2, title='center')\n",
    "plt.imshow(center)\n",
    "plt.subplot(1,3,3, title='right')\n",
    "plt.imshow(right)\n",
    "plt.tight_layout()"
   ]
  },
  {
   "cell_type": "code",
   "execution_count": null,
   "metadata": {
    "collapsed": false
   },
   "outputs": [],
   "source": [
    "# Set random brightness to the images and then change to RGB color.(Images are loaded in BGR color)\n",
    "print(\"This is an example of images with random brightness and then moved to RGB color\")\n",
    "print('Steering angle: {} '.format(steering_angle))\n",
    " \n",
    "plt.figure(figsize=(20,20));\n",
    "plt.subplot(1,3,1, title='randomBright left')\n",
    "plt.imshow(randomBrightness(left))\n",
    "plt.subplot(1,3,2, title='randomBright center')\n",
    "plt.imshow(randomBrightness(center))\n",
    "plt.subplot(1,3,3, title='randomBright right')\n",
    "plt.imshow(randomBrightness(right))\n",
    "plt.tight_layout()"
   ]
  },
  {
   "cell_type": "code",
   "execution_count": null,
   "metadata": {
    "collapsed": false
   },
   "outputs": [],
   "source": [
    "print(\"We than crop the top of the images by 60px as that has nothing to do with the model\")\n",
    "print(\"We also crop 20px from bottom to get rid of the car\")\n",
    "print('Steering angle: {} '.format(steering_angle))\n",
    "plt.figure(figsize=(20,20));\n",
    "plt.subplot(1,3,1, title='cropTop randomBright left')\n",
    "plt.imshow(cropTopBot(randomBrightness(left)))\n",
    "plt.subplot(1,3,2, title='cropTop randomBright center')\n",
    "plt.imshow(cropTopBot(randomBrightness(center)))\n",
    "plt.subplot(1,3,3, title='cropTop randomBright right')\n",
    "plt.imshow(cropTopBot(randomBrightness(right)))\n",
    "plt.tight_layout()"
   ]
  },
  {
   "cell_type": "code",
   "execution_count": null,
   "metadata": {
    "collapsed": false
   },
   "outputs": [],
   "source": [
    "print(\"Than we resize the images to fit our model with shape (66,200,3)\")\n",
    "print('Steering angle: {} '.format(steering_angle))\n",
    "plt.figure(figsize=(20,20));\n",
    "plt.subplot(1,3,1, title='Resized cropTopBot randomBright left')\n",
    "plt.imshow(resizeImg(cropTopBot(randomBrightness(left))))\n",
    "plt.subplot(1,3,2, title='Resized cropTopBot randomBright center')\n",
    "plt.imshow(resizeImg(cropTopBot(randomBrightness(center))))\n",
    "plt.subplot(1,3,3, title='Resized cropTopBot randomBright right')\n",
    "plt.imshow(resizeImg(cropTopBot(randomBrightness(right))))\n",
    "plt.tight_layout()"
   ]
  },
  {
   "cell_type": "code",
   "execution_count": null,
   "metadata": {
    "collapsed": false
   },
   "outputs": [],
   "source": [
    "# Modify flip to plot\n",
    "# Flip images by axis and steering angle\n",
    "def flipImage(image):\n",
    "    return cv2.flip(image,1)\n",
    "def flipAngle(angle):    \n",
    "    return angle * (-1)\n",
    "\n",
    "print(\"Than we resize the images to fit our model with shape (66,200,3)\")\n",
    "print(\"This is the final augmentation of the data so this is how they look going into the model for training\")\n",
    "print('Steering angle: {} '.format(flipAngle(steering_angle)))\n",
    "plt.figure(figsize=(20,20));\n",
    "plt.subplot(1,3,1, title='Flipped resized cropTopBot randomBright left')\n",
    "plt.imshow(flipImage(resizeImg(cropTopBot(randomBrightness(left)))))\n",
    "plt.subplot(1,3,2, title='Flipped resized cropTopBot randomBright center')\n",
    "plt.imshow(flipImage(resizeImg(cropTopBot(randomBrightness(center)))))\n",
    "plt.subplot(1,3,3, title='Flipped resized cropTopBot randomBright right')\n",
    "plt.imshow(flipImage(resizeImg(cropTopBot(randomBrightness(right)))))\n",
    "plt.tight_layout()\n",
    "\n"
   ]
  },
  {
   "cell_type": "code",
   "execution_count": null,
   "metadata": {
    "collapsed": false
   },
   "outputs": [],
   "source": [
    "all_angles_in_set = []\n",
    "for i in range(len(training_data)):\n",
    "    all_angles_in_set.append(float(training_data[i][3]))\n",
    "    \n",
    "print(\"Steering angles in dataset: {}\".format(len(all_angles_in_set)))\n",
    "plt.hist(all_angles_in_set, range=(-.6, 0.6), bins=101, alpha=0.5, ec='k')\n",
    "plt.show()\n",
    "print('Like we can see in this histogram that the amount of driving straight images is significantly more than other images.')"
   ]
  },
  {
   "cell_type": "code",
   "execution_count": null,
   "metadata": {
    "collapsed": false
   },
   "outputs": [],
   "source": [
    "# This function does the same as the one generating batches for training\n",
    "# Modified to show histograms of steering angles\n",
    "def getBatch(data, batch_size):\n",
    "    steeringIndex = 3\n",
    "    while 1:    \n",
    "        batch_x = np.zeros((batch_size, 66, 200, 3))\n",
    "        batch_y = np.zeros(batch_size)\n",
    "        i = 0\n",
    "        while i < batch_size:\n",
    "            useImg = False\n",
    "            # Get random index in data and set steering value accordingly\n",
    "            rint = np.random.randint(len(data)-1)\n",
    "            steeringValue = float(data[rint][steeringIndex])         \n",
    "            \n",
    "            # Check if steering is approx straight driving - We dont want to take them all...\n",
    "            if -0.10 <= steeringValue <= 0.1: \n",
    "                if np.random.randint(10) == 1:\n",
    "                    useImg = True\n",
    "\n",
    "            # All images which are not as near 0.0 we will use\n",
    "            else:\n",
    "                useImg = True\n",
    "            \n",
    "            if useImg:              \n",
    "                # Get random type of image. center, left or right image\n",
    "                rtype = np.random.randint(3)\n",
    "                \n",
    "                if rtype == 1: # Left image add offset\n",
    "                    steeringValue += .2\n",
    "                if rtype == 2: # Right image add offset\n",
    "                    steeringValue -= .2 \n",
    "                    \n",
    "                batch_y[i] = steeringValue\n",
    "                batch_x[i] = resizeImg(cropTopBot(getImageToBatch(data[rint][rtype])))\n",
    "                \n",
    "                # Add random flip by axes images. Approx 1 of 5\n",
    "                if np.random.randint(5) == 1:\n",
    "                    batch_x[i], batch_y[i] = flip(batch_x[i], batch_y[i])\n",
    "\n",
    "                # As we used the image i will increse by one\n",
    "                i += 1          \n",
    "\n",
    "        return batch_y\n",
    "\n",
    "batch_size = 128\n",
    "batches = []\n",
    "for x in range(4):\n",
    "    batches.append(getBatch(training_data, batch_size))\n",
    "\n",
    "f,a = plt.subplots(2,2)\n",
    "a = a.ravel()\n",
    "for idx,ax in enumerate(a):\n",
    "    ax.hist(batches[idx], range=(-.6, 0.6), bins=101, ec='k')\n",
    "plt.tight_layout()\n"
   ]
  },
  {
   "cell_type": "markdown",
   "metadata": {
    "collapsed": false
   },
   "source": [
    "## Summary"
   ]
  },
  {
   "cell_type": "code",
   "execution_count": null,
   "metadata": {
    "collapsed": true
   },
   "outputs": [],
   "source": []
  }
 ],
 "metadata": {
  "kernelspec": {
   "display_name": "Python 3",
   "language": "python",
   "name": "python3"
  },
  "language_info": {
   "codemirror_mode": {
    "name": "ipython",
    "version": 3
   },
   "file_extension": ".py",
   "mimetype": "text/x-python",
   "name": "python",
   "nbconvert_exporter": "python",
   "pygments_lexer": "ipython3",
   "version": "3.5.2"
  },
  "widgets": {
   "state": {},
   "version": "1.1.2"
  }
 },
 "nbformat": 4,
 "nbformat_minor": 2
}
